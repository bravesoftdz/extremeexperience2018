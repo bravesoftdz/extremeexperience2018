{
 "cells": [
  {
   "cell_type": "code",
   "execution_count": 25,
   "metadata": {},
   "outputs": [],
   "source": [
    "import requests"
   ]
  },
  {
   "cell_type": "code",
   "execution_count": 26,
   "metadata": {},
   "outputs": [],
   "source": [
    "jogos = requests.get('http://worldcup.sfg.io/matches').json()"
   ]
  },
  {
   "cell_type": "code",
   "execution_count": null,
   "metadata": {},
   "outputs": [],
   "source": [
    "jogos[0]"
   ]
  },
  {
   "cell_type": "code",
   "execution_count": 27,
   "metadata": {},
   "outputs": [
    {
     "name": "stdout",
     "output_type": "stream",
     "text": [
      "Russia 5 X 0 Saudi Arabia\n",
      "Egypt 0 X 1 Uruguay\n",
      "Morocco 0 X 1 Iran\n",
      "Portugal 3 X 3 Spain\n",
      "France 2 X 1 Australia\n",
      "Argentina 1 X 1 Iceland\n",
      "Peru 0 X 1 Denmark\n",
      "Croatia 2 X 0 Nigeria\n",
      "Costa Rica 0 X 1 Serbia\n",
      "Germany 0 X 1 Mexico\n",
      "Brazil 1 X 1 Switzerland\n",
      "Sweden 1 X 0 Korea Republic\n",
      "Belgium 3 X 0 Panama\n",
      "Tunisia 1 X 2 England\n",
      "Colombia 1 X 2 Japan\n",
      "Poland 1 X 2 Senegal\n",
      "Russia 3 X 1 Egypt\n",
      "Portugal 1 X 0 Morocco\n",
      "Uruguay 1 X 0 Saudi Arabia\n",
      "Iran 0 X 1 Spain\n",
      "Denmark 1 X 1 Australia\n",
      "France 1 X 0 Peru\n",
      "Argentina 0 X 3 Croatia\n",
      "Brazil 2 X 0 Costa Rica\n",
      "Nigeria 2 X 0 Iceland\n",
      "Serbia 1 X 2 Switzerland\n",
      "Belgium 5 X 2 Tunisia\n",
      "Korea Republic 1 X 2 Mexico\n",
      "Germany 2 X 1 Sweden\n",
      "England 6 X 1 Panama\n",
      "Japan 2 X 2 Senegal\n",
      "Poland 0 X 3 Colombia\n",
      "Uruguay 3 X 0 Russia\n",
      "Saudi Arabia 2 X 1 Egypt\n",
      "Iran 1 X 1 Portugal\n",
      "Spain 2 X 2 Morocco\n",
      "Denmark 0 X 0 France\n",
      "Australia 0 X 2 Peru\n",
      "Nigeria 1 X 2 Argentina\n",
      "Iceland 1 X 2 Croatia\n",
      "Korea Republic 2 X 0 Germany\n",
      "Mexico 0 X 3 Sweden\n",
      "Switzerland 2 X 2 Costa Rica\n",
      "Serbia 0 X 2 Brazil\n",
      "Senegal 0 X 1 Colombia\n",
      "Japan 0 X 1 Poland\n",
      "Panama 1 X 2 Tunisia\n",
      "England 0 X 1 Belgium\n",
      "France 4 X 3 Argentina\n",
      "Uruguay 2 X 1 Portugal\n"
     ]
    }
   ],
   "source": [
    "# Listando os placares\n",
    "\n",
    "STATUS = ('completed', 'in progress')\n",
    "# STATUS = ('in progress')\n",
    "\n",
    "for jogo in jogos:\n",
    "    if jogo['status'] in STATUS:\n",
    "        print(\n",
    "            jogo['home_team']['country'],\n",
    "            jogo['home_team']['goals'],\n",
    "            'X',\n",
    "            jogo['away_team']['goals'],\n",
    "            jogo['away_team']['country']\n",
    "        )"
   ]
  },
  {
   "cell_type": "code",
   "execution_count": 28,
   "metadata": {},
   "outputs": [],
   "source": [
    "# Listando os artilheiros\n",
    "\n",
    "artilheiros = {}\n",
    "for jogo in jogos:\n",
    "    if jogo['status'] in ('completed', 'in progress'):\n",
    "        for par_json in ('home_team_events', 'away_team_events'):\n",
    "            for evento in jogo[par_json]:\n",
    "                if evento['type_of_event'] in ('goal', 'goal-penalty'):\n",
    "                    if evento['player'] in artilheiros:\n",
    "                        artilheiros[evento['player']] += 1\n",
    "                    else:\n",
    "                        artilheiros[evento['player']] = 1"
   ]
  },
  {
   "cell_type": "code",
   "execution_count": null,
   "metadata": {},
   "outputs": [],
   "source": [
    "len(artilheiros)"
   ]
  },
  {
   "cell_type": "code",
   "execution_count": null,
   "metadata": {},
   "outputs": [],
   "source": [
    "artilheiros"
   ]
  },
  {
   "cell_type": "code",
   "execution_count": 29,
   "metadata": {},
   "outputs": [
    {
     "name": "stdout",
     "output_type": "stream",
     "text": [
      "5 Harry KANE\n",
      "4 CRISTIANO RONALDO\n",
      "4 Romelu LUKAKU\n",
      "3 Denis CHERYSHEV\n",
      "3 Diego COSTA\n",
      "3 Kylian MBAPPE\n",
      "3 Edinson CAVANI\n",
      "2 Artem DZYUBA\n",
      "2 Antoine GRIEZMANN\n",
      "2 Mile JEDINAK\n",
      "2 Sergio AGUERO\n",
      "2 Luka MODRIC\n",
      "2 PHILIPPE COUTINHO\n",
      "2 Andreas GRANQVIST\n",
      "2 MOHAMED SALAH\n",
      "2 Luis SUAREZ\n",
      "2 Ahmed MUSA\n",
      "2 Eden HAZARD\n",
      "2 Wahbi KHAZRI\n",
      "2 SON Heungmin\n",
      "2 Carlos VELA\n",
      "2 John STONES\n",
      "2 Yerry MINA\n",
      "2 Iago ASPAS\n",
      "2 Victor MOSES\n",
      "2 Marcos ROJO\n",
      "1 Iury GAZINSKY\n",
      "1 Aleksandr GOLOVIN\n",
      "1 Jose GIMENEZ\n",
      "1 NACHO\n",
      "1 Paul POGBA\n",
      "1 Alfred FINNBOGASON\n",
      "1 Yussuf Yurary POULSEN\n",
      "1 Aleksandar KOLAROV\n",
      "1 Hirving  LOZANO\n",
      "1 Steven ZUBER\n",
      "1 Dries MERTENS\n",
      "1 Ferjani SASSI\n",
      "1 Juan QUINTERO\n",
      "1 Shinji KAGAWA\n",
      "1 Yuya OSAKO\n",
      "1 Grzegorz KRYCHOWIAK\n",
      "1 Mbaye NIANG\n",
      "1 Christian ERIKSEN\n",
      "1 Ante REBIC\n",
      "1 Ivan RAKITIC\n",
      "1 NEYMAR\n",
      "1 Aleksandar MITROVIC\n",
      "1 Granit XHAKA\n",
      "1 Xherdan SHAQIRI\n",
      "1 Michy BATSHUAYI\n",
      "1 Dylan BRONN\n",
      "1 Javier HERNANDEZ\n",
      "1 Marco REUS\n",
      "1 Toni KROOS\n",
      "1 Ola TOIVONEN\n",
      "1 Jesse  LINGARD\n",
      "1 Felipe BALOY\n",
      "1 Takashi INUI\n",
      "1 Keisuke HONDA\n",
      "1 Sadio MANE\n",
      "1 Moussa WAGUE\n",
      "1 Radamel FALCAO\n",
      "1 Juan CUADRADO\n",
      "1 Diego LAXALT\n",
      "1 SALMAN ALFARAJ\n",
      "1 SALEM ALDAWSARI\n",
      "1 Karim ANSARIFARD\n",
      "1 RICARDO QUARESMA\n",
      "1 ISCO\n",
      "1 Khalid BOUTAIB\n",
      "1 Youssef EN NESYRI\n",
      "1 Andre CARRILLO\n",
      "1 Paolo GUERRERO\n",
      "1 Lionel MESSI\n",
      "1 Gylfi SIGURDSSON\n",
      "1 Milan BADELJ\n",
      "1 Ivan PERISIC\n",
      "1 KIM Younggwon\n",
      "1 Ludwig AUGUSTINSSON\n",
      "1 Blerim DZEMAILI\n",
      "1 Josip DRMIC\n",
      "1 Kendall WASTON\n",
      "1 Bryan RUIZ\n",
      "1 PAULINHO\n",
      "1 THIAGO SILVA\n",
      "1 Jan BEDNAREK\n",
      "1 Jose Luis RODRIGUEZ\n",
      "1 Fakhreddine BEN YOUSSEF\n",
      "1 Adnan JANUZAJ\n",
      "1 Benjamin PAVARD\n",
      "1 Angel DI MARIA\n",
      "1 Gabriel MERCADO\n",
      "1 PEPE\n"
     ]
    }
   ],
   "source": [
    "for item in sorted(artilheiros, reverse=True, key=artilheiros.get):\n",
    "    print (artilheiros[item], item)"
   ]
  },
  {
   "cell_type": "code",
   "execution_count": null,
   "metadata": {},
   "outputs": [],
   "source": []
  }
 ],
 "metadata": {
  "kernelspec": {
   "display_name": "Python 3",
   "language": "python",
   "name": "python3"
  },
  "language_info": {
   "codemirror_mode": {
    "name": "ipython",
    "version": 3
   },
   "file_extension": ".py",
   "mimetype": "text/x-python",
   "name": "python",
   "nbconvert_exporter": "python",
   "pygments_lexer": "ipython3",
   "version": "3.6.5"
  }
 },
 "nbformat": 4,
 "nbformat_minor": 2
}
